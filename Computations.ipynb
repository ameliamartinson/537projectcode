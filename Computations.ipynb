{
 "cells": [
  {
   "cell_type": "code",
   "execution_count": 46,
   "id": "a4cced83-27b5-4f89-93ab-420d505a9fe8",
   "metadata": {},
   "outputs": [
    {
     "name": "stdout",
     "output_type": "stream",
     "text": [
      "Requirement already satisfied: sympy in /opt/homebrew/Cellar/jupyterlab/4.3.3/libexec/lib/python3.13/site-packages (1.13.3)\n",
      "Requirement already satisfied: mpmath<1.4,>=1.1.0 in /opt/homebrew/Cellar/jupyterlab/4.3.3/libexec/lib/python3.13/site-packages (from sympy) (1.3.0)\n",
      "Note: you may need to restart the kernel to use updated packages.\n"
     ]
    }
   ],
   "source": [
    "pip install sympy"
   ]
  },
  {
   "cell_type": "code",
   "execution_count": 47,
   "id": "69d22aab-fa01-4d39-8226-6b4c2fa37e81",
   "metadata": {},
   "outputs": [],
   "source": [
    "from sympy import *\n",
    "Z_wdot, M_wdot = symbols('Z_wdot M_wdot')\n",
    "I_n = Matrix([[1,0,0,0],[0,1-Z_wdot,0,0],[0,-M_wdot,1,0],[0,0,0,1]])\n",
    "I_n_inv = I_n**-1"
   ]
  },
  {
   "cell_type": "code",
   "execution_count": 48,
   "id": "514888cf-933a-4e81-983a-b952183c6dd8",
   "metadata": {},
   "outputs": [],
   "source": [
    "X_u, X_w = symbols('X_u X_w')\n",
    "Z_u, Z_w, Z_q, u_0, g_0, Theta_0 = symbols('Z_u Z_w Z_q u_0 g_0 Theta_0')\n",
    "M_u, M_w, M_q = symbols('M_u M_w M_q')\n",
    "X_de, X_dT, Z_de, Z_dT, M_de, M_dT = symbols('X_{\\\\delta_e} X_{\\\\delta_T} Z_{\\\\delta_e} Z_{\\\\delta_T} M_{\\\\delta_e} M_{\\\\delta_T}')"
   ]
  },
  {
   "cell_type": "code",
   "execution_count": 49,
   "id": "eb28ee51-bc33-4610-8aef-01370ebe5126",
   "metadata": {},
   "outputs": [],
   "source": [
    "A = Matrix([[X_u, X_w, 0, -g_0*cos(Theta_0)],\n",
    "            [Z_u, Z_w, u_0 + Z_q, -g_0*sin(Theta_0)],\n",
    "            [M_u, M_w, M_q, 0],\n",
    "            [0,0,1,0]])"
   ]
  },
  {
   "cell_type": "code",
   "execution_count": 50,
   "id": "91cfe2fa-99be-463a-820a-6244e242deb4",
   "metadata": {},
   "outputs": [],
   "source": [
    "B = Matrix([[X_de, X_dT],\n",
    "            [Z_de, Z_dT],\n",
    "            [M_de, M_dT],\n",
    "            [0,0]])"
   ]
  },
  {
   "cell_type": "code",
   "execution_count": 51,
   "id": "144efd42-971f-40b3-9364-6143e9335c68",
   "metadata": {},
   "outputs": [
    {
     "data": {
      "text/latex": [
       "$\\displaystyle \\left[\\begin{matrix}X_{u} & X_{w} & 0 & - g_{0} \\cos{\\left(\\Theta_{0} \\right)}\\\\- \\frac{Z_{u}}{Z_{\\dot{w}} - 1} & - \\frac{Z_{w}}{Z_{\\dot{w}} - 1} & - \\frac{Z_{q} + u_{0}}{Z_{\\dot{w}} - 1} & \\frac{g_{0} \\sin{\\left(\\Theta_{0} \\right)}}{Z_{\\dot{w}} - 1}\\\\M_{u} - \\frac{M_{\\dot{w}} Z_{u}}{Z_{\\dot{w}} - 1} & M_{w} - \\frac{M_{\\dot{w}} Z_{w}}{Z_{\\dot{w}} - 1} & M_{q} - \\frac{M_{\\dot{w}} \\left(Z_{q} + u_{0}\\right)}{Z_{\\dot{w}} - 1} & \\frac{M_{\\dot{w}} g_{0} \\sin{\\left(\\Theta_{0} \\right)}}{Z_{\\dot{w}} - 1}\\\\0 & 0 & 1 & 0\\end{matrix}\\right]$"
      ],
      "text/plain": [
       "Matrix([\n",
       "[                          X_u,                           X_w,                                     0,                    -g_0*cos(Theta_0)],\n",
       "[            -Z_u/(Z_wdot - 1),             -Z_w/(Z_wdot - 1),             -(Z_q + u_0)/(Z_wdot - 1),        g_0*sin(Theta_0)/(Z_wdot - 1)],\n",
       "[M_u - M_wdot*Z_u/(Z_wdot - 1), M_w - M_wdot*Z_w/(Z_wdot - 1), M_q - M_wdot*(Z_q + u_0)/(Z_wdot - 1), M_wdot*g_0*sin(Theta_0)/(Z_wdot - 1)],\n",
       "[                            0,                             0,                                     1,                                    0]])"
      ]
     },
     "execution_count": 51,
     "metadata": {},
     "output_type": "execute_result"
    }
   ],
   "source": [
    "I_n_inv*A"
   ]
  },
  {
   "cell_type": "code",
   "execution_count": 52,
   "id": "efa36749-ceff-40a0-ba73-b0f5276af3b4",
   "metadata": {},
   "outputs": [
    {
     "data": {
      "text/latex": [
       "$\\displaystyle \\left[\\begin{matrix}X_{\\delta_e} & X_{\\delta_T}\\\\- \\frac{Z_{\\delta_e}}{Z_{\\dot{w}} - 1} & - \\frac{Z_{\\delta_T}}{Z_{\\dot{w}} - 1}\\\\- \\frac{M_{\\dot{w}} Z_{\\delta_e}}{Z_{\\dot{w}} - 1} + M_{\\delta_e} & - \\frac{M_{\\dot{w}} Z_{\\delta_T}}{Z_{\\dot{w}} - 1} + M_{\\delta_T}\\\\0 & 0\\end{matrix}\\right]$"
      ],
      "text/plain": [
       "Matrix([\n",
       "[                                    X_{\\delta_e},                                     X_{\\delta_T}],\n",
       "[                      -Z_{\\delta_e}/(Z_wdot - 1),                       -Z_{\\delta_T}/(Z_wdot - 1)],\n",
       "[-M_wdot*Z_{\\delta_e}/(Z_wdot - 1) + M_{\\delta_e}, -M_wdot*Z_{\\delta_T}/(Z_wdot - 1) + M_{\\delta_T}],\n",
       "[                                               0,                                                0]])"
      ]
     },
     "execution_count": 52,
     "metadata": {},
     "output_type": "execute_result"
    }
   ],
   "source": [
    "I_n_inv*B"
   ]
  },
  {
   "cell_type": "code",
   "execution_count": null,
   "id": "77566883-8c37-42c7-82fd-c61fe81a855e",
   "metadata": {},
   "outputs": [],
   "source": []
  }
 ],
 "metadata": {
  "kernelspec": {
   "display_name": "Python 3 (ipykernel)",
   "language": "python",
   "name": "python3"
  },
  "language_info": {
   "codemirror_mode": {
    "name": "ipython",
    "version": 3
   },
   "file_extension": ".py",
   "mimetype": "text/x-python",
   "name": "python",
   "nbconvert_exporter": "python",
   "pygments_lexer": "ipython3",
   "version": "3.13.1"
  }
 },
 "nbformat": 4,
 "nbformat_minor": 5
}
